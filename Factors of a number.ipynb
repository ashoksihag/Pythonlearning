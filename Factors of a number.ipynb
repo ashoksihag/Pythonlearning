{
 "cells": [
  {
   "cell_type": "code",
   "execution_count": null,
   "metadata": {},
   "outputs": [],
   "source": [
    "#find all the factors of a number \n",
    "\n",
    "\n",
    "def factor(n):\n",
    "    for i in range(0,n):\n",
    "        if n%(i+1) == 0:\n",
    "            print(i+1)\n",
    "\n",
    "x = input('Input number : ')\n",
    "\n",
    "y = int(x)\n",
    "\n",
    "print('factors of number ' + x + ' are :')\n",
    "\n",
    "factor(y)\n"
   ]
  },
  {
   "cell_type": "code",
   "execution_count": null,
   "metadata": {},
   "outputs": [],
   "source": []
  },
  {
   "cell_type": "code",
   "execution_count": null,
   "metadata": {},
   "outputs": [],
   "source": []
  },
  {
   "cell_type": "code",
   "execution_count": null,
   "metadata": {},
   "outputs": [],
   "source": []
  }
 ],
 "metadata": {
  "kernelspec": {
   "display_name": "Python 3",
   "language": "python",
   "name": "python3"
  },
  "language_info": {
   "codemirror_mode": {
    "name": "ipython",
    "version": 3
   },
   "file_extension": ".py",
   "mimetype": "text/x-python",
   "name": "python",
   "nbconvert_exporter": "python",
   "pygments_lexer": "ipython3",
   "version": "3.8.3"
  }
 },
 "nbformat": 4,
 "nbformat_minor": 4
}
