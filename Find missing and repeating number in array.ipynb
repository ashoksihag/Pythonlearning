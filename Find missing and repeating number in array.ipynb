{
 "cells": [
  {
   "cell_type": "code",
   "execution_count": 2,
   "metadata": {},
   "outputs": [
    {
     "name": "stdout",
     "output_type": "stream",
     "text": [
      "Missing number is : {4}\n",
      "Repeated number is : [2]\n"
     ]
    }
   ],
   "source": [
    "#find missing and repeating number in array\n",
    "\n",
    "#missing array\n",
    "A = [1,2,3,2,5]\n",
    "\n",
    "#correct array\n",
    "B = [1,2,3,4,5]\n",
    "\n",
    "a =set(A)\n",
    "b = set(B)\n",
    "\n",
    "Missing_number = set(b) - set(a).intersection(b)\n",
    "\n",
    "print('Missing number is : '+ str(Missing_number))\n",
    "\n",
    "def repeated(x):\n",
    "    for i in range(0, len(x)):\n",
    "        for j in range(i+1, len(x)):\n",
    "            if x[i] == x[j]:\n",
    "                print('Repeated number is : '+ str([x[j]]))\n",
    "                \n",
    "repeated(A)"
   ]
  },
  {
   "cell_type": "code",
   "execution_count": null,
   "metadata": {},
   "outputs": [],
   "source": []
  },
  {
   "cell_type": "code",
   "execution_count": null,
   "metadata": {},
   "outputs": [],
   "source": []
  },
  {
   "cell_type": "code",
   "execution_count": null,
   "metadata": {},
   "outputs": [],
   "source": []
  },
  {
   "cell_type": "code",
   "execution_count": null,
   "metadata": {},
   "outputs": [],
   "source": []
  },
  {
   "cell_type": "code",
   "execution_count": null,
   "metadata": {},
   "outputs": [],
   "source": [
    "\n",
    "            \n",
    "        \n",
    "   \n",
    "    \n"
   ]
  },
  {
   "cell_type": "code",
   "execution_count": null,
   "metadata": {},
   "outputs": [],
   "source": [
    "\n"
   ]
  },
  {
   "cell_type": "code",
   "execution_count": null,
   "metadata": {},
   "outputs": [],
   "source": []
  }
 ],
 "metadata": {
  "kernelspec": {
   "display_name": "Python 3",
   "language": "python",
   "name": "python3"
  },
  "language_info": {
   "codemirror_mode": {
    "name": "ipython",
    "version": 3
   },
   "file_extension": ".py",
   "mimetype": "text/x-python",
   "name": "python",
   "nbconvert_exporter": "python",
   "pygments_lexer": "ipython3",
   "version": "3.8.3"
  }
 },
 "nbformat": 4,
 "nbformat_minor": 4
}
